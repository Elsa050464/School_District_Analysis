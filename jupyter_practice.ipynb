{
 "cells": [
  {
   "cell_type": "code",
   "execution_count": null,
<<<<<<< HEAD
   "id": "44880232",
=======
   "id": "dd46b5d4",
>>>>>>> c76bbe82fd9e77ab58bce7ba36de9de669f9a646
   "metadata": {},
   "outputs": [],
   "source": []
  }
 ],
 "metadata": {
  "kernelspec": {
<<<<<<< HEAD
   "display_name": "Python 3 (ipykernel)",
   "language": "python",
   "name": "python3"
=======
   "display_name": "PythonData",
   "language": "python",
   "name": "pythondata"
>>>>>>> c76bbe82fd9e77ab58bce7ba36de9de669f9a646
  },
  "language_info": {
   "codemirror_mode": {
    "name": "ipython",
    "version": 3
   },
   "file_extension": ".py",
   "mimetype": "text/x-python",
   "name": "python",
   "nbconvert_exporter": "python",
   "pygments_lexer": "ipython3",
<<<<<<< HEAD
   "version": "3.9.7"
=======
   "version": "3.7.10"
>>>>>>> c76bbe82fd9e77ab58bce7ba36de9de669f9a646
  }
 },
 "nbformat": 4,
 "nbformat_minor": 5
}
